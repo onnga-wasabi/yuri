{
 "cells": [
  {
   "cell_type": "code",
   "execution_count": 1,
   "metadata": {},
   "outputs": [],
   "source": [
    "import sys\n",
    "import requests\n",
    "from bs4 import BeautifulSoup\n",
    "import re\n",
    "from time import sleep\n",
    "import pickle\n",
    "baseurl='https://matome.naver.jp'"
   ]
  },
  {
   "cell_type": "code",
   "execution_count": 4,
   "metadata": {},
   "outputs": [],
   "source": [
    "def get_image_urls(url='/odai/2134131257162744701/2143315691256592103',urls=[]):\n",
    "    url=baseurl+url\n",
    "    response = requests.get(url)\n",
    "    try:\n",
    "        soup = BeautifulSoup(response.text, 'lxml')\n",
    "        print('lxml parsed!')\n",
    "    except:\n",
    "        soup = BeautifulSoup(response.text, 'html5lib')\n",
    "        print('html5lib parsed!')\n",
    "    next_url = soup.find_all(class_='mdMTMEnd01Pagination01Next')\n",
    "    next_url = re.sub('\\\".*a>','',re.sub('<a.*href=\\\"','',str(next_url)))\n",
    "    if not next_url:\n",
    "        return urls.append(url)\n",
    "    sleep(2)\n",
    "    urls.append(url)\n",
    "    urls.append(get_image_urls(next_url[1:-1],urls))"
   ]
  },
  {
   "cell_type": "code",
   "execution_count": null,
   "metadata": {
    "scrolled": true
   },
   "outputs": [
    {
     "name": "stdout",
     "output_type": "stream",
     "text": [
      "lxml parsed!\n",
      "lxml parsed!\n",
      "lxml parsed!\n",
      "lxml parsed!\n"
     ]
    }
   ],
   "source": [
    "urls=get_image_urls()\n",
    "with open('YuriTakami.pkl','wb') as f:\n",
    "    pickle.dump(urls,f)"
   ]
  },
  {
   "cell_type": "code",
   "execution_count": null,
   "metadata": {},
   "outputs": [],
   "source": []
  }
 ],
 "metadata": {
  "kernelspec": {
   "display_name": "Python 3",
   "language": "python",
   "name": "python3"
  },
  "language_info": {
   "codemirror_mode": {
    "name": "ipython",
    "version": 3
   },
   "file_extension": ".py",
   "mimetype": "text/x-python",
   "name": "python",
   "nbconvert_exporter": "python",
   "pygments_lexer": "ipython3",
   "version": "3.6.0"
  }
 },
 "nbformat": 4,
 "nbformat_minor": 2
}
